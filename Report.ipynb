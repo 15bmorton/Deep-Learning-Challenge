{
  "nbformat": 4,
  "nbformat_minor": 0,
  "metadata": {
    "colab": {
      "name": "Report.ipynb",
      "provenance": [],
      "authorship_tag": "ABX9TyOVhXAP3KyV31Fvqq+Qj+GG",
      "include_colab_link": true
    },
    "kernelspec": {
      "name": "python3",
      "display_name": "Python 3"
    },
    "language_info": {
      "name": "python"
    }
  },
  "cells": [
    {
      "cell_type": "markdown",
      "metadata": {
        "id": "view-in-github",
        "colab_type": "text"
      },
      "source": [
        "<a href=\"https://colab.research.google.com/github/15bmorton/Deep-Learning-Challenge/blob/master/Report.ipynb\" target=\"_parent\"><img src=\"https://colab.research.google.com/assets/colab-badge.svg\" alt=\"Open In Colab\"/></a>"
      ]
    },
    {
      "cell_type": "code",
      "metadata": {
        "id": "oWuvM1aqrppr"
      },
      "source": [
        "#Report\n",
        "#1. This analysis sought to predict whether applicants for the foundation will be successful\n",
        "#via exploration and implementation of a neural network model.\n",
        "\n",
        "#2. Targets were represented by 'IS_SUCCESSFUL' column values.\n",
        "#   All other columns in the dataset determined our features or X values.\n",
        "#   Any undefined numerical features and company names were removed.\n",
        "#   I chose three neural layers to break up the large number of parameters. There were 50\n",
        "#   and 20 neural nodes in the second and third layers.\n",
        "#   I was not able to reach target model performance\n",
        "#   I removed outliers, changed the number of unique values, and played with the number of neural layers\n",
        "\n",
        "#3. Overall results- I achieved over 72% accuracy. You could probably run perhaps a random forest on this dataset."
      ],
      "execution_count": null,
      "outputs": []
    }
  ]
}